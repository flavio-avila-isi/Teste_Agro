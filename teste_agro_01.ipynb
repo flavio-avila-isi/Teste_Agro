{
 "cells": [
  {
   "cell_type": "markdown",
   "id": "ea2bde33",
   "metadata": {},
   "source": [
    "# Predição da produtividade na agricultura (Random Forest)"
   ]
  },
  {
   "cell_type": "markdown",
   "id": "62c3713a",
   "metadata": {},
   "source": [
    "Aluno: Flavio Rocha de Avila "
   ]
  },
  {
   "cell_type": "markdown",
   "id": "2cd1b585",
   "metadata": {},
   "source": [
    "## Introdução\n",
    "\n",
    "Estima-se que a população mundial será de 9,8 bilhões até o ano de 2050 (United Nations, 2017).\n",
    "O Brasil é o maior produtor mundial de grãos (Conab, 2021) e o declínio da taxa de crescimento do rendimento das colheitas (Fugile, 2018) é preocupante, onde a instabilidade climática é o principal desafio esperado para a produção de grãos no Brasil (Sentelhas, 2015). A implementação proposta será  a predição de produção de milho, soja e arroz, utilizando-se um dataset de dados históricos (2017-2020) de área plantada x produção x temperatura x quantidade de chuva de diversas regiões do Brasil.  \n",
    "  \n",
    "A solução apresentada é a predição da produtividade da cultura plantada a partir das informações históricas, utilizando-se Random Forest e ainda o cálculo de acurácia comparado com arvore de decisão. A linguagem utilizada é o Phyton (Jupyter Notebook) em conjunto com as bibliotecas Panda (análise e manipulação de dados), IPython: O IPython (ferramenta de cálculo e visualização), OS (funções para interagir com o sistema operacional), Scikit-Learn (treino das técnicas de estatística e Machine Learning) e Graphviz (visualização de gráficos)."
   ]
  },
  {
   "cell_type": "markdown",
   "id": "0e9bc6dc",
   "metadata": {},
   "source": [
    "## Desenvolvimento"
   ]
  },
  {
   "cell_type": "code",
   "execution_count": 1,
   "id": "15e799aa",
   "metadata": {},
   "outputs": [
    {
     "data": {
      "text/html": [
       "<u>Lista arquivos do diretório \"dataset\"</u>:"
      ],
      "text/plain": [
       "<IPython.core.display.HTML object>"
      ]
     },
     "metadata": {},
     "output_type": "display_data"
    },
    {
     "name": "stdout",
     "output_type": "stream",
     "text": [
      "['pred_arroz.csv', 'pred_grao.csv', 'pred_milho.csv', 'pred_soja.csv', 'teste_arroz.csv', 'teste_grao.csv', 'teste_milho.csv', 'teste_soja.csv', 'treino_arroz.csv', 'treino_grao.csv', 'treino_milho.csv', 'treino_soja.csv']\n"
     ]
    }
   ],
   "source": [
    "from IPython.core.display import display, HTML\n",
    "import pandas as pd\n",
    "import os\n",
    "\n",
    "display(HTML('<u>Lista arquivos do diretório \"dataset\"</u>:'))\n",
    "print(os.listdir(\"dataset\"))"
   ]
  },
  {
   "cell_type": "markdown",
   "id": "e64535fc",
   "metadata": {},
   "source": [
    "O código aciam importa a lista de arquivos de dados disponíveis no diretório 'dataset'"
   ]
  },
  {
   "cell_type": "code",
   "execution_count": 2,
   "id": "88440796",
   "metadata": {},
   "outputs": [
    {
     "data": {
      "text/html": [
       "<b>Conteúdo  do arquivo \"teste_grao.csv\":</b>"
      ],
      "text/plain": [
       "<IPython.core.display.HTML object>"
      ]
     },
     "metadata": {},
     "output_type": "display_data"
    },
    {
     "name": "stdout",
     "output_type": "stream",
     "text": [
      "    dataId    Regiao  ano_agricola  uf produto  area_plantada_mil_ha  \\\n",
      "0        7       Sul          2021  SC   ARROZ                   149   \n",
      "1        9   Sudeste          2017  MG   ARROZ                     6   \n",
      "2       19   Sudeste          2017  ES   MILHO                    13   \n",
      "3       21   Sudeste          2018  ES   MILHO                    13   \n",
      "4       34  Nordeste          2017  PB   ARROZ                     1   \n",
      "5       41  Nordeste          2018  RN   ARROZ                     1   \n",
      "6       43  Nordeste          2019  AL   ARROZ                     3   \n",
      "7       44  Nordeste          2019  CE   ARROZ                     4   \n",
      "8       45  Nordeste          2019  PB   ARROZ                     1   \n",
      "9       54  Nordeste          2020  SE   ARROZ                     4   \n",
      "10      56  Nordeste          2021  CE   ARROZ                     5   \n",
      "11      57  Nordeste          2021  PB   ARROZ                     2   \n",
      "12      65  Nordeste          2018  AL   MILHO                    26   \n",
      "13      68  Nordeste          2018  SE   MILHO                   158   \n",
      "14      72  Nordeste          2019  SE   MILHO                   148   \n",
      "15      81  Nordeste          2020  AL    SOJA                     1   \n",
      "16      88    Centro          2020  GO   ARROZ                    23   \n",
      "17      94    Centro          2018  MS   MILHO                    16   \n",
      "18      97    Centro          2019  DF   MILHO                    38   \n",
      "19      98    Centro          2019  MS   MILHO                    16   \n",
      "20      99    Centro          2019  MT   MILHO                    37   \n",
      "21     105    Centro          2021  DF   MILHO                    22   \n",
      "22     106    Centro          2021  DF   MILHO                    38   \n",
      "23     108    Centro          2021  MT   MILHO                    52   \n",
      "24     114    Centro          2017  MT   MILHO                    33   \n",
      "25     115    Centro          2017  DF    SOJA                    70   \n",
      "26     118     Norte          2017  AP   ARROZ                     2   \n",
      "27     123     Norte          2018  AC   ARROZ                     5   \n",
      "28     126     Norte          2018  PA   ARROZ                    68   \n",
      "29     127     Norte          2018  RO   ARROZ                    42   \n",
      "30     129     Norte          2018  TO   ARROZ                   132   \n",
      "31     130     Norte          2019  AC   ARROZ                     5   \n",
      "32     135     Norte          2019  RR   ARROZ                    10   \n",
      "33     140     Norte          2020  PA   ARROZ                    44   \n",
      "34     141     Norte          2020  RO   ARROZ                    42   \n",
      "35     144     Norte          2021  AC   ARROZ                     4   \n",
      "36     152     Norte          2017  AM   MILHO                    12   \n",
      "37     164     Norte          2018  PA   MILHO                   168   \n",
      "38     174     Norte          2019  AP   MILHO                     1   \n",
      "39     178     Norte          2019  RO   MILHO                   179   \n",
      "40     185     Norte          2020  AP   MILHO                     1   \n",
      "41     188     Norte          2020  RO   MILHO                    12   \n",
      "42     189     Norte          2020  RO   MILHO                   186   \n",
      "43     192     Norte          2020  TO   MILHO                   241   \n",
      "44     194     Norte          2021  AC   MILHO                     5   \n",
      "45     197     Norte          2021  PA   MILHO                   170   \n",
      "46     199     Norte          2021  RO   MILHO                    13   \n",
      "47     200     Norte          2021  RO   MILHO                   200   \n",
      "48     201     Norte          2021  RR   MILHO                    15   \n",
      "49     210     Norte          2018  AM    SOJA                     2   \n",
      "50     222     Norte          2019  TO    SOJA                  1029   \n",
      "\n",
      "    producao_mil_t  produtividade_mil_ha_mil_t  temperatura  chuvas  \n",
      "0             1255                        8422         22.2    1429  \n",
      "1               15                        2500         23.5    2232  \n",
      "2               37                        2846         23.5    2232  \n",
      "3               40                        3076         22.1    2280  \n",
      "4                1                        1000         20.9     692  \n",
      "5                4                        4000         27.0     536  \n",
      "6               19                        6333         21.1     512  \n",
      "7                6                        1500         21.1     512  \n",
      "8                1                        1000         21.1     512  \n",
      "9               28                        7000         25.0     989  \n",
      "10              17                        3400         27.4     939  \n",
      "11               2                        1000         27.4     939  \n",
      "12              29                        1115         27.0     536  \n",
      "13             485                        3069         27.0     536  \n",
      "14             768                        5189         21.1     512  \n",
      "15               4                        4000         25.0     989  \n",
      "16             120                        5217         22.4    2603  \n",
      "17             143                        8937         22.6    2257  \n",
      "18             278                        7315         25.7    2257  \n",
      "19             131                        8187         25.7    2257  \n",
      "20             262                        7081         25.7    2257  \n",
      "21             204                        9272         23.0    2564  \n",
      "22             163                        4289         23.0    2564  \n",
      "23             438                        8423         23.0    2564  \n",
      "24             256                        7757         24.2    2322  \n",
      "25             242                        3457         24.2    2322  \n",
      "26               1                         500         24.3    1562  \n",
      "27               6                        1200         24.6    1694  \n",
      "28             196                        2882         24.6    1694  \n",
      "29             138                        3285         24.6    1694  \n",
      "30             635                        4810         24.6    1694  \n",
      "31               6                        1200         26.8    1696  \n",
      "32              74                        7400         26.8    1696  \n",
      "33             109                        2477         24.1    1607  \n",
      "34             139                        3309         24.1    1607  \n",
      "35               4                        1000         24.5    1698  \n",
      "36              31                        2583         24.3    1562  \n",
      "37             552                        3285         24.6    1694  \n",
      "38               1                        1000         26.8    1696  \n",
      "39             900                        5027         26.8    1696  \n",
      "40               1                        1000         24.1    1607  \n",
      "41              35                        2916         24.1    1607  \n",
      "42             969                        5209         24.1    1607  \n",
      "43            1224                        5078         24.1    1607  \n",
      "44              13                        2600         24.5    1698  \n",
      "45             534                        3141         24.5    1698  \n",
      "46              41                        3153         24.5    1698  \n",
      "47            1038                        5190         24.5    1698  \n",
      "48              90                        6000         24.5    1698  \n",
      "49               3                        1500         24.6    1694  \n",
      "50            2932                        2849         26.8    1696  \n"
     ]
    }
   ],
   "source": [
    "pasta = \"dataset\"\n",
    "\n",
    "treino_grao = pd.read_csv(pasta + \"\\\\treino_grao.csv\")\n",
    "teste_grao = pd.read_csv(pasta + \"\\\\teste_grao.csv\")\n",
    "\n",
    "display(HTML('<b>Conteúdo  do arquivo \"teste_grao.csv\":</b>'))\n",
    "\n",
    "print(teste_grao)\n"
   ]
  },
  {
   "cell_type": "markdown",
   "id": "bca9cddd",
   "metadata": {},
   "source": [
    "O código acima salva o conteudo do arquivo treino_grao.csv na variável treino_grao e o salva o conteúdo do arquivo teste_grao.csv na variável teste_grao. Após este processo é apresentado o cabeçalho e os registros (dados) do arquivo teste_grao.csv."
   ]
  },
  {
   "cell_type": "code",
   "execution_count": 3,
   "id": "500fa7e5",
   "metadata": {},
   "outputs": [
    {
     "data": {
      "text/html": [
       "<b>Verifica se há alguma célula com valor \"null\"</b>"
      ],
      "text/plain": [
       "<IPython.core.display.HTML object>"
      ]
     },
     "metadata": {},
     "output_type": "display_data"
    },
    {
     "name": "stdout",
     "output_type": "stream",
     "text": [
      "dataId                        0\n",
      "Regiao                        0\n",
      "ano_agricola                  0\n",
      "uf                            0\n",
      "produto                       0\n",
      "area_plantada_mil_ha          0\n",
      "producao_mil_t                0\n",
      "produtividade_mil_ha_mil_t    0\n",
      "temperatura                   0\n",
      "chuvas                        0\n",
      "dtype: int64\n"
     ]
    }
   ],
   "source": [
    "display(HTML('<b>Verifica se há alguma célula com valor \"null\"</b>'))\n",
    "\n",
    "print(teste_grao.isnull().sum())"
   ]
  },
  {
   "cell_type": "markdown",
   "id": "eb693c17",
   "metadata": {},
   "source": [
    "A verificação relizada acima é necessária para garantir a concistência e integridade da base dados. Caso haja algum dado faltante/inconsistente deve-se corrigi-lo ou excluí-lo."
   ]
  },
  {
   "cell_type": "code",
   "execution_count": 4,
   "id": "fbd9ecd5",
   "metadata": {
    "scrolled": false
   },
   "outputs": [
    {
     "data": {
      "text/html": [
       "<b>Produção por tipo de grãos</b>"
      ],
      "text/plain": [
       "<IPython.core.display.HTML object>"
      ]
     },
     "metadata": {},
     "output_type": "display_data"
    },
    {
     "data": {
      "text/plain": [
       "<seaborn.axisgrid.FacetGrid at 0x20063a48cd0>"
      ]
     },
     "execution_count": 4,
     "metadata": {},
     "output_type": "execute_result"
    },
    {
     "data": {
      "image/png": "[encoded data removed]",
      "text/plain": [
       "<Figure size 360x360 with 1 Axes>"
      ]
     },
     "metadata": {
      "needs_background": "light"
     },
     "output_type": "display_data"
    }
   ],
   "source": [
    "display(HTML('<b>Produção por tipo de grãos</b>'))\n",
    "\n",
    "import matplotlib.pyplot as plt\n",
    "import seaborn as sns\n",
    "\n",
    "sns.catplot(x=\"produto\", kind=\"count\", palette=\"ch:.23\", data=treino_grao)"
   ]
  },
  {
   "cell_type": "markdown",
   "id": "d9f1d89d",
   "metadata": {},
   "source": [
    "O código acima é útil quando precisamos visualizar graficamente as quantidades de registros de interesse da base de dados. No exemplo acima pode-se visualizar o vlolume de produção para os grãos do dataset treino_grao.csv."
   ]
  },
  {
   "cell_type": "code",
   "execution_count": 5,
   "id": "66b0993a",
   "metadata": {},
   "outputs": [
    {
     "data": {
      "text/html": [
       "<b>Codificando categorias das colunas</b>"
      ],
      "text/plain": [
       "<IPython.core.display.HTML object>"
      ]
     },
     "metadata": {},
     "output_type": "display_data"
    },
    {
     "name": "stdout",
     "output_type": "stream",
     "text": [
      "     dataId  Regiao  ano_agricola  uf  produto  area_plantada_mil_ha  \\\n",
      "0         1       5          2018  16        2                    23   \n",
      "1         2       5          2018  21        2                  1078   \n",
      "2         3       5          2019  16        2                    23   \n",
      "3         4       5          2019  22        2                   144   \n",
      "4         5       5          2020  16        2                    22   \n",
      "..      ...     ...           ...  ..      ...                   ...   \n",
      "180     232       1          2021   3        3                     5   \n",
      "181     233       1          2021  13        3                   732   \n",
      "182     234       1          2021  19        3                   396   \n",
      "183     235       1          2021  20        3                    70   \n",
      "184     236       1          2021  25        3                  1119   \n",
      "\n",
      "     producao_mil_t  produtividade_mil_ha_mil_t  temperatura  chuvas safra  \n",
      "0               131                        5695         18.0    1343  Ruim  \n",
      "1              8460                        7847         18.0    1343   Boa  \n",
      "2               142                        6173         21.5    1758   Boa  \n",
      "3              1091                        7576         21.5    1758   Boa  \n",
      "4               153                        6954         20.0    1395   Boa  \n",
      "..              ...                         ...          ...     ...   ...  \n",
      "180              13                        2600         24.5    1698   Boa  \n",
      "181            2231                        3047         24.5    1698   Boa  \n",
      "182            1375                        3472         24.5    1698   Boa  \n",
      "183             196                        2800         24.5    1698   Boa  \n",
      "184            3526                        3151         24.5    1698   Boa  \n",
      "\n",
      "[185 rows x 11 columns]\n"
     ]
    }
   ],
   "source": [
    "display(HTML('<b>Codificando categorias das colunas</b>'))\n",
    "\n",
    "\n",
    "#produto = {\"MILHO\":1,\"ARROZ\":2,\"SOJA\":3} \n",
    "treino_grao['produto'] = treino_grao['produto'].replace('MILHO', 1)\n",
    "treino_grao['produto'] = treino_grao['produto'].replace('ARROZ', 2)\n",
    "treino_grao['produto'] = treino_grao['produto'].replace('SOJA', 3)\n",
    "\n",
    "#regiao = {\"Norte\":1,\"Nordeste\":2,\"Centro\":3, \"Sudeste\":4, \"Sul\",5} \n",
    "treino_grao['Regiao'] = treino_grao['Regiao'].replace('Norte', 1)\n",
    "treino_grao['Regiao'] = treino_grao['Regiao'].replace('Nordeste', 2)\n",
    "treino_grao['Regiao'] = treino_grao['Regiao'].replace('Centro', 3)\n",
    "treino_grao['Regiao'] = treino_grao['Regiao'].replace('Sudeste', 4)\n",
    "treino_grao['Regiao'] = treino_grao['Regiao'].replace('Sul', 5)\n",
    "\n",
    "#estado\n",
    "treino_grao['uf'] = treino_grao['uf'].replace('AC', 0)\n",
    "treino_grao['uf'] = treino_grao['uf'].replace('AL', 1)\n",
    "treino_grao['uf'] = treino_grao['uf'].replace('AM', 2)\n",
    "treino_grao['uf'] = treino_grao['uf'].replace('AP', 3)\n",
    "treino_grao['uf'] = treino_grao['uf'].replace('BA', 4)\n",
    "treino_grao['uf'] = treino_grao['uf'].replace('CE', 5)\n",
    "treino_grao['uf'] = treino_grao['uf'].replace('DF', 6)\n",
    "treino_grao['uf'] = treino_grao['uf'].replace('ES', 7)\n",
    "treino_grao['uf'] = treino_grao['uf'].replace('GO', 8)\n",
    "treino_grao['uf'] = treino_grao['uf'].replace('MA', 9)\n",
    "treino_grao['uf'] = treino_grao['uf'].replace('MG', 10)\n",
    "treino_grao['uf'] = treino_grao['uf'].replace('MS', 11)\n",
    "treino_grao['uf'] = treino_grao['uf'].replace('MT', 12)\n",
    "treino_grao['uf'] = treino_grao['uf'].replace('PA', 13)\n",
    "treino_grao['uf'] = treino_grao['uf'].replace('PB', 14)\n",
    "treino_grao['uf'] = treino_grao['uf'].replace('PI', 15)\n",
    "treino_grao['uf'] = treino_grao['uf'].replace('PR', 16)\n",
    "treino_grao['uf'] = treino_grao['uf'].replace('RJ', 17)\n",
    "treino_grao['uf'] = treino_grao['uf'].replace('RN', 18)\n",
    "treino_grao['uf'] = treino_grao['uf'].replace('RO', 19)\n",
    "treino_grao['uf'] = treino_grao['uf'].replace('RR', 20)\n",
    "treino_grao['uf'] = treino_grao['uf'].replace('RS', 21)\n",
    "treino_grao['uf'] = treino_grao['uf'].replace('SC', 22)\n",
    "treino_grao['uf'] = treino_grao['uf'].replace('SE', 23)\n",
    "treino_grao['uf'] = treino_grao['uf'].replace('SP', 24)\n",
    "treino_grao['uf'] = treino_grao['uf'].replace('TO', 25)\n",
    "\n",
    "print(treino_grao)"
   ]
  },
  {
   "cell_type": "markdown",
   "id": "4da6d697",
   "metadata": {},
   "source": [
    "O código acima transforma variáveis do tipo str (nomes) em variáveis núméricas (int) que servirão para alimentar o modelo de predição."
   ]
  },
  {
   "cell_type": "code",
   "execution_count": 6,
   "id": "44e8d225",
   "metadata": {},
   "outputs": [
    {
     "data": {
      "text/html": [
       "<b>Variáveis do modelo: </b>"
      ],
      "text/plain": [
       "<IPython.core.display.HTML object>"
      ]
     },
     "metadata": {},
     "output_type": "display_data"
    },
    {
     "name": "stdout",
     "output_type": "stream",
     "text": [
      "['dataId', 'Regiao', 'ano_agricola', 'uf', 'produto', 'area_plantada_mil_ha', 'producao_mil_t', 'produtividade_mil_ha_mil_t', 'temperatura', 'chuvas']\n"
     ]
    }
   ],
   "source": [
    "from sklearn.model_selection import train_test_split\n",
    "\n",
    "X_treino_total = treino_grao.drop('safra',axis = 1)\n",
    "y_treino_total = treino_grao['safra']\n",
    "\n",
    "x_treino, x_teste, y_treino, y_teste = train_test_split(X_treino_total, y_treino_total, test_size=0.8, random_state=120)\n",
    "\n",
    "display(HTML('<b>Variáveis do modelo: </b>'))\n",
    "print(list(x_treino))\n",
    "\n"
   ]
  },
  {
   "cell_type": "markdown",
   "id": "757e5b4b",
   "metadata": {},
   "source": [
    "O código acima cria o modelo de árvore de decisão utilizando o parâmetro safra como referência."
   ]
  },
  {
   "cell_type": "code",
   "execution_count": 7,
   "id": "51928ace",
   "metadata": {},
   "outputs": [],
   "source": [
    "from sklearn import tree\n",
    "from graphviz import Source\n",
    "from sklearn.tree import export_graphviz\n",
    "import joblib\n",
    "\n",
    "decision_tree = tree.DecisionTreeClassifier(max_depth=5)\n",
    "\n",
    "decision_tree = decision_tree.fit(x_treino,y_treino)"
   ]
  },
  {
   "cell_type": "markdown",
   "id": "2a2c6aa0",
   "metadata": {},
   "source": [
    "O código acima monta o modelo de árvore de decisão utilizando o parâmetro safra como referência."
   ]
  },
  {
   "cell_type": "code",
   "execution_count": 8,
   "id": "8db6b33d",
   "metadata": {},
   "outputs": [
    {
     "data": {
      "text/plain": [
       "'arvore_treino.pdf'"
      ]
     },
     "execution_count": 8,
     "metadata": {},
     "output_type": "execute_result"
    }
   ],
   "source": [
    "dot_data = tree.export_graphviz(decision_tree, feature_names = list(x_treino),class_names = ['Boa', 'Ruim'],out_file = None ) \n",
    "graph = Source(dot_data) \n",
    "graph.render(\"arvore_treino\")"
   ]
  },
  {
   "cell_type": "markdown",
   "id": "291a9930",
   "metadata": {},
   "source": [
    "O código acima exporta o modelo gráfico de árvore de decisão resultante para o arquivo arvore_treino.pdf."
   ]
  },
  {
   "cell_type": "code",
   "execution_count": 9,
   "id": "ec57aee3",
   "metadata": {},
   "outputs": [
    {
     "data": {
      "text/html": [
       "<b> Cálculo da validação cruzada para a árvore de decisão</b>"
      ],
      "text/plain": [
       "<IPython.core.display.HTML object>"
      ]
     },
     "metadata": {},
     "output_type": "display_data"
    },
    {
     "name": "stdout",
     "output_type": "stream",
     "text": [
      "[1.         0.8        0.93333333 0.93333333 1.         1.\n",
      " 0.93333333 1.         0.85714286 1.        ]\n",
      "Acurácia de 79.72972972972973 %\n"
     ]
    }
   ],
   "source": [
    "display(HTML('<b> Cálculo da validação cruzada para a árvore de decisão</b>'))\n",
    "\n",
    "from sklearn.model_selection import cross_val_score\n",
    "from sklearn.metrics import accuracy_score\n",
    "\n",
    "print(cross_val_score(decision_tree, x_teste, y_teste, cv = 10)) \n",
    "pred = decision_tree.predict(x_teste)\n",
    "print('Acurácia de', accuracy_score(pred, y_teste)*100, '%')"
   ]
  },
  {
   "cell_type": "markdown",
   "id": "d6e7b11c",
   "metadata": {},
   "source": [
    "O código acima calcula o valor ada acurácia da validação cruzada para a árvore de decisão."
   ]
  },
  {
   "cell_type": "code",
   "execution_count": 10,
   "id": "9e693822",
   "metadata": {},
   "outputs": [
    {
     "data": {
      "text/html": [
       "<b> Cálculo da validação cruzada para Random Forest</b>"
      ],
      "text/plain": [
       "<IPython.core.display.HTML object>"
      ]
     },
     "metadata": {},
     "output_type": "display_data"
    },
    {
     "name": "stdout",
     "output_type": "stream",
     "text": [
      "[1.         1.         0.93333333 0.93333333 0.93333333 0.93333333\n",
      " 0.93333333 1.         0.92857143 0.92857143]\n",
      "Acuracia de 81.75675675675676 %\n"
     ]
    }
   ],
   "source": [
    "display(HTML('<b> Cálculo da validação cruzada para Random Forest</b>'))\n",
    "from sklearn.ensemble import RandomForestClassifier\n",
    "\n",
    "clf = RandomForestClassifier(n_estimators = 9)\n",
    "model_rf = clf.fit(x_treino, y_treino) \n",
    "\n",
    "print(cross_val_score(model_rf, x_teste, y_teste, cv = 10)) \n",
    "pred = model_rf.predict(x_teste)\n",
    "print('Acuracia de', accuracy_score(pred, y_teste)*100,'%')"
   ]
  },
  {
   "cell_type": "markdown",
   "id": "9161577d",
   "metadata": {},
   "source": [
    "O código acima calcula o valor ada acurácia da validação cruzada para Random Forest."
   ]
  }
 ],
 "metadata": {
  "kernelspec": {
   "display_name": "Python 3 (ipykernel)",
   "language": "python",
   "name": "python3"
  },
  "language_info": {
   "codemirror_mode": {
    "name": "ipython",
    "version": 3
   },
   "file_extension": ".py",
   "mimetype": "text/x-python",
   "name": "python",
   "nbconvert_exporter": "python",
   "pygments_lexer": "ipython3",
   "version": "3.9.7"
  }
 },
 "nbformat": 4,
 "nbformat_minor": 5
}
